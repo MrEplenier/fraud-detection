{
  "nbformat": 4,
  "nbformat_minor": 0,
  "metadata": {
    "colab": {
      "name": "detection_fraude.ipynb",
      "provenance": [],
      "collapsed_sections": [],
      "mount_file_id": "1dmQzKJApi7lVdoOcWqvH2_CVr1-Vu8CJ",
      "authorship_tag": "ABX9TyMmja8wPUt2tkd17GH4EX08",
      "include_colab_link": true
    },
    "kernelspec": {
      "name": "python3",
      "display_name": "Python 3"
    }
  },
  "cells": [
    {
      "cell_type": "markdown",
      "metadata": {
        "id": "view-in-github",
        "colab_type": "text"
      },
      "source": [
        "<a href=\"https://colab.research.google.com/github/MrEplenier/fraud-detection/blob/master/detection_fraude.ipynb\" target=\"_parent\"><img src=\"https://colab.research.google.com/assets/colab-badge.svg\" alt=\"Open In Colab\"/></a>"
      ]
    },
    {
      "cell_type": "markdown",
      "metadata": {
        "id": "BtCoVVfNEvyF",
        "colab_type": "text"
      },
      "source": [
        "## **Imports des modules et de la base de données**"
      ]
    },
    {
      "cell_type": "code",
      "metadata": {
        "id": "U8X7v_3UYSBA",
        "colab_type": "code",
        "colab": {}
      },
      "source": [
        "import pandas as pd\n",
        "import numpy as np\n",
        "from matplotlib import pyplot as plt\n",
        "from sklearn.metrics import confusion_matrix, roc_curve, precision_recall_curve\n",
        "import seaborn as sns\n",
        "import time\n",
        "\n",
        "import torch\n",
        "from torchvision import transforms\n",
        "import torch.nn as nn\n",
        "import torch.nn.functional as F\n",
        "from torch.utils.data import Dataset, DataLoader, random_split"
      ],
      "execution_count": null,
      "outputs": []
    },
    {
      "cell_type": "code",
      "metadata": {
        "id": "Y-ynw6LjX56y",
        "colab_type": "code",
        "colab": {}
      },
      "source": [
        "# Base de données importée depuis mon Google Drive\n",
        "data = pd.read_csv('/content/drive/My Drive/Fac/Mémoire/PS_20174392719_1491204439457_log.csv')"
      ],
      "execution_count": null,
      "outputs": []
    },
    {
      "cell_type": "markdown",
      "metadata": {
        "id": "6XzvHOaR4RDC",
        "colab_type": "text"
      },
      "source": [
        "## **Description de la base de données**\n"
      ]
    },
    {
      "cell_type": "markdown",
      "metadata": {
        "id": "Rp6yKIFXEmmV",
        "colab_type": "text"
      },
      "source": [
        "https://www.kaggle.com/ntnu-testimon/paysim1\n",
        "\n",
        "<br>\n",
        "\n",
        "* **`step`** : Unité de temps en heure (simulation sur 30 jours)\n",
        "* **`type`** : Type de transaction\n",
        "* **`amount`** : Montant de la transaction\n",
        "\n",
        "<br>\n",
        "\n",
        "* **`nameOrig`** : Emetteur\n",
        "* **`oldbalanceOrg`** : Solde de l'émetteur avant la transaction\n",
        "* **`newbalanceOrg`** : Solde de l'émetteur après la transaction\n",
        "\n",
        "<br>\n",
        "\n",
        "* **`nameDest`** : Receveur\n",
        "* **`oldbalanceDest`** : Solde du receveur avant la transaction\n",
        "* **`newbalanceDest`** : Solde du receveur après la transaction\n",
        "\n",
        "<br>\n",
        "\n",
        "* **`isFraud`** : Fraude détectée (1) ou non-détectée (0)\n",
        "* **`isFlaggedFraud`** : Virements de plus de 200,000"
      ]
    },
    {
      "cell_type": "code",
      "metadata": {
        "id": "l9FDOQrIkHnL",
        "colab_type": "code",
        "colab": {
          "base_uri": "https://localhost:8080/",
          "height": 419
        },
        "outputId": "c5304038-2601-482c-f5c1-5c4995089fee"
      },
      "source": [
        "data"
      ],
      "execution_count": null,
      "outputs": [
        {
          "output_type": "execute_result",
          "data": {
            "text/html": [
              "<div>\n",
              "<style scoped>\n",
              "    .dataframe tbody tr th:only-of-type {\n",
              "        vertical-align: middle;\n",
              "    }\n",
              "\n",
              "    .dataframe tbody tr th {\n",
              "        vertical-align: top;\n",
              "    }\n",
              "\n",
              "    .dataframe thead th {\n",
              "        text-align: right;\n",
              "    }\n",
              "</style>\n",
              "<table border=\"1\" class=\"dataframe\">\n",
              "  <thead>\n",
              "    <tr style=\"text-align: right;\">\n",
              "      <th></th>\n",
              "      <th>step</th>\n",
              "      <th>type</th>\n",
              "      <th>amount</th>\n",
              "      <th>nameOrig</th>\n",
              "      <th>oldbalanceOrg</th>\n",
              "      <th>newbalanceOrig</th>\n",
              "      <th>nameDest</th>\n",
              "      <th>oldbalanceDest</th>\n",
              "      <th>newbalanceDest</th>\n",
              "      <th>isFraud</th>\n",
              "      <th>isFlaggedFraud</th>\n",
              "    </tr>\n",
              "  </thead>\n",
              "  <tbody>\n",
              "    <tr>\n",
              "      <th>0</th>\n",
              "      <td>1</td>\n",
              "      <td>PAYMENT</td>\n",
              "      <td>9839.64</td>\n",
              "      <td>C1231006815</td>\n",
              "      <td>170136.00</td>\n",
              "      <td>160296.36</td>\n",
              "      <td>M1979787155</td>\n",
              "      <td>0.00</td>\n",
              "      <td>0.00</td>\n",
              "      <td>0</td>\n",
              "      <td>0</td>\n",
              "    </tr>\n",
              "    <tr>\n",
              "      <th>1</th>\n",
              "      <td>1</td>\n",
              "      <td>PAYMENT</td>\n",
              "      <td>1864.28</td>\n",
              "      <td>C1666544295</td>\n",
              "      <td>21249.00</td>\n",
              "      <td>19384.72</td>\n",
              "      <td>M2044282225</td>\n",
              "      <td>0.00</td>\n",
              "      <td>0.00</td>\n",
              "      <td>0</td>\n",
              "      <td>0</td>\n",
              "    </tr>\n",
              "    <tr>\n",
              "      <th>2</th>\n",
              "      <td>1</td>\n",
              "      <td>TRANSFER</td>\n",
              "      <td>181.00</td>\n",
              "      <td>C1305486145</td>\n",
              "      <td>181.00</td>\n",
              "      <td>0.00</td>\n",
              "      <td>C553264065</td>\n",
              "      <td>0.00</td>\n",
              "      <td>0.00</td>\n",
              "      <td>1</td>\n",
              "      <td>0</td>\n",
              "    </tr>\n",
              "    <tr>\n",
              "      <th>3</th>\n",
              "      <td>1</td>\n",
              "      <td>CASH_OUT</td>\n",
              "      <td>181.00</td>\n",
              "      <td>C840083671</td>\n",
              "      <td>181.00</td>\n",
              "      <td>0.00</td>\n",
              "      <td>C38997010</td>\n",
              "      <td>21182.00</td>\n",
              "      <td>0.00</td>\n",
              "      <td>1</td>\n",
              "      <td>0</td>\n",
              "    </tr>\n",
              "    <tr>\n",
              "      <th>4</th>\n",
              "      <td>1</td>\n",
              "      <td>PAYMENT</td>\n",
              "      <td>11668.14</td>\n",
              "      <td>C2048537720</td>\n",
              "      <td>41554.00</td>\n",
              "      <td>29885.86</td>\n",
              "      <td>M1230701703</td>\n",
              "      <td>0.00</td>\n",
              "      <td>0.00</td>\n",
              "      <td>0</td>\n",
              "      <td>0</td>\n",
              "    </tr>\n",
              "    <tr>\n",
              "      <th>...</th>\n",
              "      <td>...</td>\n",
              "      <td>...</td>\n",
              "      <td>...</td>\n",
              "      <td>...</td>\n",
              "      <td>...</td>\n",
              "      <td>...</td>\n",
              "      <td>...</td>\n",
              "      <td>...</td>\n",
              "      <td>...</td>\n",
              "      <td>...</td>\n",
              "      <td>...</td>\n",
              "    </tr>\n",
              "    <tr>\n",
              "      <th>6362615</th>\n",
              "      <td>743</td>\n",
              "      <td>CASH_OUT</td>\n",
              "      <td>339682.13</td>\n",
              "      <td>C786484425</td>\n",
              "      <td>339682.13</td>\n",
              "      <td>0.00</td>\n",
              "      <td>C776919290</td>\n",
              "      <td>0.00</td>\n",
              "      <td>339682.13</td>\n",
              "      <td>1</td>\n",
              "      <td>0</td>\n",
              "    </tr>\n",
              "    <tr>\n",
              "      <th>6362616</th>\n",
              "      <td>743</td>\n",
              "      <td>TRANSFER</td>\n",
              "      <td>6311409.28</td>\n",
              "      <td>C1529008245</td>\n",
              "      <td>6311409.28</td>\n",
              "      <td>0.00</td>\n",
              "      <td>C1881841831</td>\n",
              "      <td>0.00</td>\n",
              "      <td>0.00</td>\n",
              "      <td>1</td>\n",
              "      <td>0</td>\n",
              "    </tr>\n",
              "    <tr>\n",
              "      <th>6362617</th>\n",
              "      <td>743</td>\n",
              "      <td>CASH_OUT</td>\n",
              "      <td>6311409.28</td>\n",
              "      <td>C1162922333</td>\n",
              "      <td>6311409.28</td>\n",
              "      <td>0.00</td>\n",
              "      <td>C1365125890</td>\n",
              "      <td>68488.84</td>\n",
              "      <td>6379898.11</td>\n",
              "      <td>1</td>\n",
              "      <td>0</td>\n",
              "    </tr>\n",
              "    <tr>\n",
              "      <th>6362618</th>\n",
              "      <td>743</td>\n",
              "      <td>TRANSFER</td>\n",
              "      <td>850002.52</td>\n",
              "      <td>C1685995037</td>\n",
              "      <td>850002.52</td>\n",
              "      <td>0.00</td>\n",
              "      <td>C2080388513</td>\n",
              "      <td>0.00</td>\n",
              "      <td>0.00</td>\n",
              "      <td>1</td>\n",
              "      <td>0</td>\n",
              "    </tr>\n",
              "    <tr>\n",
              "      <th>6362619</th>\n",
              "      <td>743</td>\n",
              "      <td>CASH_OUT</td>\n",
              "      <td>850002.52</td>\n",
              "      <td>C1280323807</td>\n",
              "      <td>850002.52</td>\n",
              "      <td>0.00</td>\n",
              "      <td>C873221189</td>\n",
              "      <td>6510099.11</td>\n",
              "      <td>7360101.63</td>\n",
              "      <td>1</td>\n",
              "      <td>0</td>\n",
              "    </tr>\n",
              "  </tbody>\n",
              "</table>\n",
              "<p>6362620 rows × 11 columns</p>\n",
              "</div>"
            ],
            "text/plain": [
              "         step      type      amount  ... newbalanceDest  isFraud  isFlaggedFraud\n",
              "0           1   PAYMENT     9839.64  ...           0.00        0               0\n",
              "1           1   PAYMENT     1864.28  ...           0.00        0               0\n",
              "2           1  TRANSFER      181.00  ...           0.00        1               0\n",
              "3           1  CASH_OUT      181.00  ...           0.00        1               0\n",
              "4           1   PAYMENT    11668.14  ...           0.00        0               0\n",
              "...       ...       ...         ...  ...            ...      ...             ...\n",
              "6362615   743  CASH_OUT   339682.13  ...      339682.13        1               0\n",
              "6362616   743  TRANSFER  6311409.28  ...           0.00        1               0\n",
              "6362617   743  CASH_OUT  6311409.28  ...     6379898.11        1               0\n",
              "6362618   743  TRANSFER   850002.52  ...           0.00        1               0\n",
              "6362619   743  CASH_OUT   850002.52  ...     7360101.63        1               0\n",
              "\n",
              "[6362620 rows x 11 columns]"
            ]
          },
          "metadata": {
            "tags": []
          },
          "execution_count": 29
        }
      ]
    },
    {
      "cell_type": "code",
      "metadata": {
        "id": "q1CWV2eOZ2vq",
        "colab_type": "code",
        "colab": {
          "base_uri": "https://localhost:8080/",
          "height": 51
        },
        "outputId": "f305c3c2-7c86-4063-f719-c17a94c5084a"
      },
      "source": [
        "a = len(data[data[\"isFraud\"] == 0])\n",
        "b = len(data[data[\"isFraud\"] == 1])\n",
        "total = len(data)\n",
        "\n",
        "print(\"Nombre d'entrées non-frauduleuses : {:.2%}\".format(a/total))\n",
        "print(\"Nombre d'entrées frauduleuses : {:.2%}\".format(b/total))"
      ],
      "execution_count": null,
      "outputs": [
        {
          "output_type": "stream",
          "text": [
            "Nombre d'entrées non-frauduleuses : 99.87%\n",
            "Nombre d'entrées frauduleuses : 0.13%\n"
          ],
          "name": "stdout"
        }
      ]
    },
    {
      "cell_type": "markdown",
      "metadata": {
        "id": "vbwmdhCMDvYW",
        "colab_type": "text"
      },
      "source": [
        "## **Transformation de la base de données**"
      ]
    },
    {
      "cell_type": "markdown",
      "metadata": {
        "id": "B_XZC9GXEL3w",
        "colab_type": "text"
      },
      "source": [
        "#### **Suppression de variables inutiles**"
      ]
    },
    {
      "cell_type": "markdown",
      "metadata": {
        "id": "ckHLRL-G3vsX",
        "colab_type": "text"
      },
      "source": [
        "La variable \"isFlaggedFraud\" est incomplète car comme nous pouvons le voir ci-dessous, 5455 entrées de notre dataset ont un montant dépassant 200,000 et ont été détectées comme frauduleuse (\"isFraud\" = 1) mais n'ont pas été labéllisées à \"1\" par la variable \"isFlaggedFraud\".\n",
        "\n",
        "Seulement 16 entrées de notre dataset ont été labellisées à \"1\" pour la variable \"isFlaggedFraud\". Cela représente 0.0013%, ce qui est négligeable.\n",
        "\n",
        "Nous décidons par conséquent de ne pas considérer cette variable de notre dataset car elle est inutile.\n"
      ]
    },
    {
      "cell_type": "code",
      "metadata": {
        "id": "9FrOyqTaPMw8",
        "colab_type": "code",
        "colab": {
          "base_uri": "https://localhost:8080/",
          "height": 34
        },
        "outputId": "21380423-4ba7-442c-d2fb-5344a46b0b26"
      },
      "source": [
        "a = data[data[\"isFlaggedFraud\"] == 1]\n",
        "print(\"Nombre des virements frauduleux dépassant les 200,000 dont \\\"isFlaggedFraud\\\" = 1 : {}\".format(len(a)))"
      ],
      "execution_count": null,
      "outputs": [
        {
          "output_type": "stream",
          "text": [
            "Nombre des virements frauduleux dépassant les 200,000 dont \"isFlaggedFraud\" = 1 : 16\n"
          ],
          "name": "stdout"
        }
      ]
    },
    {
      "cell_type": "code",
      "metadata": {
        "id": "WcaSpcTt44sq",
        "colab_type": "code",
        "colab": {
          "base_uri": "https://localhost:8080/",
          "height": 34
        },
        "outputId": "18cd152e-b470-470e-a76b-25751cf0cbaf"
      },
      "source": [
        "a = data[(data[\"amount\"] >= 200000) \\\n",
        "     & (data[\"isFraud\"] == 1) \\\n",
        "     & (data[\"isFlaggedFraud\"] == 0)]\n",
        "\n",
        "print(\"Nombre des virements frauduleux dépassant les 200,000 et dont isFlaggedFraud = 0 : {}\".format(len(a)))"
      ],
      "execution_count": null,
      "outputs": [
        {
          "output_type": "stream",
          "text": [
            "Nombre des virements frauduleux dépassant les 200,000 et dont isFlaggedFraud = 0 : 5455\n"
          ],
          "name": "stdout"
        }
      ]
    },
    {
      "cell_type": "code",
      "metadata": {
        "id": "UmjnpBQp1gAf",
        "colab_type": "code",
        "colab": {}
      },
      "source": [
        "data = data.drop(columns = [\"isFlaggedFraud\"])"
      ],
      "execution_count": null,
      "outputs": []
    },
    {
      "cell_type": "markdown",
      "metadata": {
        "id": "m-C2I0nIBv3_",
        "colab_type": "text"
      },
      "source": [
        "La variable \"step\" n'est pas non plus à considérer pour l'entraînement de notre futur modèle au vu de l'information qu'elle donne."
      ]
    },
    {
      "cell_type": "code",
      "metadata": {
        "id": "hsuLZ7XEApC-",
        "colab_type": "code",
        "colab": {}
      },
      "source": [
        "data = data.drop(columns = [\"step\"])"
      ],
      "execution_count": null,
      "outputs": []
    },
    {
      "cell_type": "code",
      "metadata": {
        "id": "kfWv2aK1JSwO",
        "colab_type": "code",
        "colab": {}
      },
      "source": [
        "data = data.drop(columns = [\"nameOrig\", \"nameDest\"])"
      ],
      "execution_count": null,
      "outputs": []
    },
    {
      "cell_type": "markdown",
      "metadata": {
        "id": "0xcl9_vnCMPJ",
        "colab_type": "text"
      },
      "source": [
        "#### **One-Hot Encoding sur la variable \"type\"**\n",
        "\n",
        "\n",
        "Etant donnée que la variable \"type\" est une variable catagorielles, nous devons appliquer la méthode du One-Hot Encoding qui consiste en deux étapes :\n",
        "\n",
        "* Splitter la variable en différentes sous-variables (chaque catégorie)\n",
        "* Pour chaque entrée, attribuer 1 si la catégorie est présente sinon 0"
      ]
    },
    {
      "cell_type": "code",
      "metadata": {
        "id": "HTQP9L1SCLlf",
        "colab_type": "code",
        "colab": {
          "base_uri": "https://localhost:8080/",
          "height": 419
        },
        "outputId": "401ca212-bddb-4b5b-8d58-8eb1a910acd9"
      },
      "source": [
        "one_hot_type = pd.get_dummies(data[\"type\"], prefix=\"type\")\n",
        "one_hot_type"
      ],
      "execution_count": null,
      "outputs": [
        {
          "output_type": "execute_result",
          "data": {
            "text/html": [
              "<div>\n",
              "<style scoped>\n",
              "    .dataframe tbody tr th:only-of-type {\n",
              "        vertical-align: middle;\n",
              "    }\n",
              "\n",
              "    .dataframe tbody tr th {\n",
              "        vertical-align: top;\n",
              "    }\n",
              "\n",
              "    .dataframe thead th {\n",
              "        text-align: right;\n",
              "    }\n",
              "</style>\n",
              "<table border=\"1\" class=\"dataframe\">\n",
              "  <thead>\n",
              "    <tr style=\"text-align: right;\">\n",
              "      <th></th>\n",
              "      <th>type_CASH_IN</th>\n",
              "      <th>type_CASH_OUT</th>\n",
              "      <th>type_DEBIT</th>\n",
              "      <th>type_PAYMENT</th>\n",
              "      <th>type_TRANSFER</th>\n",
              "    </tr>\n",
              "  </thead>\n",
              "  <tbody>\n",
              "    <tr>\n",
              "      <th>0</th>\n",
              "      <td>0</td>\n",
              "      <td>0</td>\n",
              "      <td>0</td>\n",
              "      <td>1</td>\n",
              "      <td>0</td>\n",
              "    </tr>\n",
              "    <tr>\n",
              "      <th>1</th>\n",
              "      <td>0</td>\n",
              "      <td>0</td>\n",
              "      <td>0</td>\n",
              "      <td>1</td>\n",
              "      <td>0</td>\n",
              "    </tr>\n",
              "    <tr>\n",
              "      <th>2</th>\n",
              "      <td>0</td>\n",
              "      <td>0</td>\n",
              "      <td>0</td>\n",
              "      <td>0</td>\n",
              "      <td>1</td>\n",
              "    </tr>\n",
              "    <tr>\n",
              "      <th>3</th>\n",
              "      <td>0</td>\n",
              "      <td>1</td>\n",
              "      <td>0</td>\n",
              "      <td>0</td>\n",
              "      <td>0</td>\n",
              "    </tr>\n",
              "    <tr>\n",
              "      <th>4</th>\n",
              "      <td>0</td>\n",
              "      <td>0</td>\n",
              "      <td>0</td>\n",
              "      <td>1</td>\n",
              "      <td>0</td>\n",
              "    </tr>\n",
              "    <tr>\n",
              "      <th>...</th>\n",
              "      <td>...</td>\n",
              "      <td>...</td>\n",
              "      <td>...</td>\n",
              "      <td>...</td>\n",
              "      <td>...</td>\n",
              "    </tr>\n",
              "    <tr>\n",
              "      <th>6362615</th>\n",
              "      <td>0</td>\n",
              "      <td>1</td>\n",
              "      <td>0</td>\n",
              "      <td>0</td>\n",
              "      <td>0</td>\n",
              "    </tr>\n",
              "    <tr>\n",
              "      <th>6362616</th>\n",
              "      <td>0</td>\n",
              "      <td>0</td>\n",
              "      <td>0</td>\n",
              "      <td>0</td>\n",
              "      <td>1</td>\n",
              "    </tr>\n",
              "    <tr>\n",
              "      <th>6362617</th>\n",
              "      <td>0</td>\n",
              "      <td>1</td>\n",
              "      <td>0</td>\n",
              "      <td>0</td>\n",
              "      <td>0</td>\n",
              "    </tr>\n",
              "    <tr>\n",
              "      <th>6362618</th>\n",
              "      <td>0</td>\n",
              "      <td>0</td>\n",
              "      <td>0</td>\n",
              "      <td>0</td>\n",
              "      <td>1</td>\n",
              "    </tr>\n",
              "    <tr>\n",
              "      <th>6362619</th>\n",
              "      <td>0</td>\n",
              "      <td>1</td>\n",
              "      <td>0</td>\n",
              "      <td>0</td>\n",
              "      <td>0</td>\n",
              "    </tr>\n",
              "  </tbody>\n",
              "</table>\n",
              "<p>6362620 rows × 5 columns</p>\n",
              "</div>"
            ],
            "text/plain": [
              "         type_CASH_IN  type_CASH_OUT  type_DEBIT  type_PAYMENT  type_TRANSFER\n",
              "0                   0              0           0             1              0\n",
              "1                   0              0           0             1              0\n",
              "2                   0              0           0             0              1\n",
              "3                   0              1           0             0              0\n",
              "4                   0              0           0             1              0\n",
              "...               ...            ...         ...           ...            ...\n",
              "6362615             0              1           0             0              0\n",
              "6362616             0              0           0             0              1\n",
              "6362617             0              1           0             0              0\n",
              "6362618             0              0           0             0              1\n",
              "6362619             0              1           0             0              0\n",
              "\n",
              "[6362620 rows x 5 columns]"
            ]
          },
          "metadata": {
            "tags": []
          },
          "execution_count": 36
        }
      ]
    },
    {
      "cell_type": "code",
      "metadata": {
        "id": "yFC5_2WfGP6e",
        "colab_type": "code",
        "colab": {
          "base_uri": "https://localhost:8080/",
          "height": 419
        },
        "outputId": "e6dc5172-dd56-43e4-c940-a9c79a44e32c"
      },
      "source": [
        "data = pd.concat([one_hot_type, data], axis = 1)\n",
        "data = data.drop(columns = [\"type\"])\n",
        "data"
      ],
      "execution_count": null,
      "outputs": [
        {
          "output_type": "execute_result",
          "data": {
            "text/html": [
              "<div>\n",
              "<style scoped>\n",
              "    .dataframe tbody tr th:only-of-type {\n",
              "        vertical-align: middle;\n",
              "    }\n",
              "\n",
              "    .dataframe tbody tr th {\n",
              "        vertical-align: top;\n",
              "    }\n",
              "\n",
              "    .dataframe thead th {\n",
              "        text-align: right;\n",
              "    }\n",
              "</style>\n",
              "<table border=\"1\" class=\"dataframe\">\n",
              "  <thead>\n",
              "    <tr style=\"text-align: right;\">\n",
              "      <th></th>\n",
              "      <th>type_CASH_IN</th>\n",
              "      <th>type_CASH_OUT</th>\n",
              "      <th>type_DEBIT</th>\n",
              "      <th>type_PAYMENT</th>\n",
              "      <th>type_TRANSFER</th>\n",
              "      <th>amount</th>\n",
              "      <th>oldbalanceOrg</th>\n",
              "      <th>newbalanceOrig</th>\n",
              "      <th>oldbalanceDest</th>\n",
              "      <th>newbalanceDest</th>\n",
              "      <th>isFraud</th>\n",
              "    </tr>\n",
              "  </thead>\n",
              "  <tbody>\n",
              "    <tr>\n",
              "      <th>0</th>\n",
              "      <td>0</td>\n",
              "      <td>0</td>\n",
              "      <td>0</td>\n",
              "      <td>1</td>\n",
              "      <td>0</td>\n",
              "      <td>9839.64</td>\n",
              "      <td>170136.00</td>\n",
              "      <td>160296.36</td>\n",
              "      <td>0.00</td>\n",
              "      <td>0.00</td>\n",
              "      <td>0</td>\n",
              "    </tr>\n",
              "    <tr>\n",
              "      <th>1</th>\n",
              "      <td>0</td>\n",
              "      <td>0</td>\n",
              "      <td>0</td>\n",
              "      <td>1</td>\n",
              "      <td>0</td>\n",
              "      <td>1864.28</td>\n",
              "      <td>21249.00</td>\n",
              "      <td>19384.72</td>\n",
              "      <td>0.00</td>\n",
              "      <td>0.00</td>\n",
              "      <td>0</td>\n",
              "    </tr>\n",
              "    <tr>\n",
              "      <th>2</th>\n",
              "      <td>0</td>\n",
              "      <td>0</td>\n",
              "      <td>0</td>\n",
              "      <td>0</td>\n",
              "      <td>1</td>\n",
              "      <td>181.00</td>\n",
              "      <td>181.00</td>\n",
              "      <td>0.00</td>\n",
              "      <td>0.00</td>\n",
              "      <td>0.00</td>\n",
              "      <td>1</td>\n",
              "    </tr>\n",
              "    <tr>\n",
              "      <th>3</th>\n",
              "      <td>0</td>\n",
              "      <td>1</td>\n",
              "      <td>0</td>\n",
              "      <td>0</td>\n",
              "      <td>0</td>\n",
              "      <td>181.00</td>\n",
              "      <td>181.00</td>\n",
              "      <td>0.00</td>\n",
              "      <td>21182.00</td>\n",
              "      <td>0.00</td>\n",
              "      <td>1</td>\n",
              "    </tr>\n",
              "    <tr>\n",
              "      <th>4</th>\n",
              "      <td>0</td>\n",
              "      <td>0</td>\n",
              "      <td>0</td>\n",
              "      <td>1</td>\n",
              "      <td>0</td>\n",
              "      <td>11668.14</td>\n",
              "      <td>41554.00</td>\n",
              "      <td>29885.86</td>\n",
              "      <td>0.00</td>\n",
              "      <td>0.00</td>\n",
              "      <td>0</td>\n",
              "    </tr>\n",
              "    <tr>\n",
              "      <th>...</th>\n",
              "      <td>...</td>\n",
              "      <td>...</td>\n",
              "      <td>...</td>\n",
              "      <td>...</td>\n",
              "      <td>...</td>\n",
              "      <td>...</td>\n",
              "      <td>...</td>\n",
              "      <td>...</td>\n",
              "      <td>...</td>\n",
              "      <td>...</td>\n",
              "      <td>...</td>\n",
              "    </tr>\n",
              "    <tr>\n",
              "      <th>6362615</th>\n",
              "      <td>0</td>\n",
              "      <td>1</td>\n",
              "      <td>0</td>\n",
              "      <td>0</td>\n",
              "      <td>0</td>\n",
              "      <td>339682.13</td>\n",
              "      <td>339682.13</td>\n",
              "      <td>0.00</td>\n",
              "      <td>0.00</td>\n",
              "      <td>339682.13</td>\n",
              "      <td>1</td>\n",
              "    </tr>\n",
              "    <tr>\n",
              "      <th>6362616</th>\n",
              "      <td>0</td>\n",
              "      <td>0</td>\n",
              "      <td>0</td>\n",
              "      <td>0</td>\n",
              "      <td>1</td>\n",
              "      <td>6311409.28</td>\n",
              "      <td>6311409.28</td>\n",
              "      <td>0.00</td>\n",
              "      <td>0.00</td>\n",
              "      <td>0.00</td>\n",
              "      <td>1</td>\n",
              "    </tr>\n",
              "    <tr>\n",
              "      <th>6362617</th>\n",
              "      <td>0</td>\n",
              "      <td>1</td>\n",
              "      <td>0</td>\n",
              "      <td>0</td>\n",
              "      <td>0</td>\n",
              "      <td>6311409.28</td>\n",
              "      <td>6311409.28</td>\n",
              "      <td>0.00</td>\n",
              "      <td>68488.84</td>\n",
              "      <td>6379898.11</td>\n",
              "      <td>1</td>\n",
              "    </tr>\n",
              "    <tr>\n",
              "      <th>6362618</th>\n",
              "      <td>0</td>\n",
              "      <td>0</td>\n",
              "      <td>0</td>\n",
              "      <td>0</td>\n",
              "      <td>1</td>\n",
              "      <td>850002.52</td>\n",
              "      <td>850002.52</td>\n",
              "      <td>0.00</td>\n",
              "      <td>0.00</td>\n",
              "      <td>0.00</td>\n",
              "      <td>1</td>\n",
              "    </tr>\n",
              "    <tr>\n",
              "      <th>6362619</th>\n",
              "      <td>0</td>\n",
              "      <td>1</td>\n",
              "      <td>0</td>\n",
              "      <td>0</td>\n",
              "      <td>0</td>\n",
              "      <td>850002.52</td>\n",
              "      <td>850002.52</td>\n",
              "      <td>0.00</td>\n",
              "      <td>6510099.11</td>\n",
              "      <td>7360101.63</td>\n",
              "      <td>1</td>\n",
              "    </tr>\n",
              "  </tbody>\n",
              "</table>\n",
              "<p>6362620 rows × 11 columns</p>\n",
              "</div>"
            ],
            "text/plain": [
              "         type_CASH_IN  type_CASH_OUT  ...  newbalanceDest  isFraud\n",
              "0                   0              0  ...            0.00        0\n",
              "1                   0              0  ...            0.00        0\n",
              "2                   0              0  ...            0.00        1\n",
              "3                   0              1  ...            0.00        1\n",
              "4                   0              0  ...            0.00        0\n",
              "...               ...            ...  ...             ...      ...\n",
              "6362615             0              1  ...       339682.13        1\n",
              "6362616             0              0  ...            0.00        1\n",
              "6362617             0              1  ...      6379898.11        1\n",
              "6362618             0              0  ...            0.00        1\n",
              "6362619             0              1  ...      7360101.63        1\n",
              "\n",
              "[6362620 rows x 11 columns]"
            ]
          },
          "metadata": {
            "tags": []
          },
          "execution_count": 37
        }
      ]
    },
    {
      "cell_type": "markdown",
      "metadata": {
        "id": "tLV-bJQiM6tC",
        "colab_type": "text"
      },
      "source": [
        "#### **Normalisation des variables**"
      ]
    },
    {
      "cell_type": "code",
      "metadata": {
        "id": "kZs8pVPAmJJV",
        "colab_type": "code",
        "colab": {}
      },
      "source": [
        "data_temp = data.drop(columns=[\"isFraud\"])"
      ],
      "execution_count": null,
      "outputs": []
    },
    {
      "cell_type": "code",
      "metadata": {
        "id": "XFBBPLCggzhX",
        "colab_type": "code",
        "colab": {}
      },
      "source": [
        "data_temp = (data_temp-data_temp.min()) / (data_temp.max()-data_temp.min())"
      ],
      "execution_count": null,
      "outputs": []
    },
    {
      "cell_type": "code",
      "metadata": {
        "id": "qX0QbxP_kfZg",
        "colab_type": "code",
        "colab": {
          "base_uri": "https://localhost:8080/",
          "height": 419
        },
        "outputId": "c3fed04f-f4f0-423f-af54-d02d8eb202b6"
      },
      "source": [
        "data = pd.concat([data_temp, data[\"isFraud\"]], axis = 1)\n",
        "data"
      ],
      "execution_count": null,
      "outputs": [
        {
          "output_type": "execute_result",
          "data": {
            "text/html": [
              "<div>\n",
              "<style scoped>\n",
              "    .dataframe tbody tr th:only-of-type {\n",
              "        vertical-align: middle;\n",
              "    }\n",
              "\n",
              "    .dataframe tbody tr th {\n",
              "        vertical-align: top;\n",
              "    }\n",
              "\n",
              "    .dataframe thead th {\n",
              "        text-align: right;\n",
              "    }\n",
              "</style>\n",
              "<table border=\"1\" class=\"dataframe\">\n",
              "  <thead>\n",
              "    <tr style=\"text-align: right;\">\n",
              "      <th></th>\n",
              "      <th>type_CASH_IN</th>\n",
              "      <th>type_CASH_OUT</th>\n",
              "      <th>type_DEBIT</th>\n",
              "      <th>type_PAYMENT</th>\n",
              "      <th>type_TRANSFER</th>\n",
              "      <th>amount</th>\n",
              "      <th>oldbalanceOrg</th>\n",
              "      <th>newbalanceOrig</th>\n",
              "      <th>oldbalanceDest</th>\n",
              "      <th>newbalanceDest</th>\n",
              "      <th>isFraud</th>\n",
              "    </tr>\n",
              "  </thead>\n",
              "  <tbody>\n",
              "    <tr>\n",
              "      <th>0</th>\n",
              "      <td>0.0</td>\n",
              "      <td>0.0</td>\n",
              "      <td>0.0</td>\n",
              "      <td>1.0</td>\n",
              "      <td>0.0</td>\n",
              "      <td>0.000106</td>\n",
              "      <td>0.002855</td>\n",
              "      <td>0.003233</td>\n",
              "      <td>0.000000</td>\n",
              "      <td>0.000000</td>\n",
              "      <td>0</td>\n",
              "    </tr>\n",
              "    <tr>\n",
              "      <th>1</th>\n",
              "      <td>0.0</td>\n",
              "      <td>0.0</td>\n",
              "      <td>0.0</td>\n",
              "      <td>1.0</td>\n",
              "      <td>0.0</td>\n",
              "      <td>0.000020</td>\n",
              "      <td>0.000357</td>\n",
              "      <td>0.000391</td>\n",
              "      <td>0.000000</td>\n",
              "      <td>0.000000</td>\n",
              "      <td>0</td>\n",
              "    </tr>\n",
              "    <tr>\n",
              "      <th>2</th>\n",
              "      <td>0.0</td>\n",
              "      <td>0.0</td>\n",
              "      <td>0.0</td>\n",
              "      <td>0.0</td>\n",
              "      <td>1.0</td>\n",
              "      <td>0.000002</td>\n",
              "      <td>0.000003</td>\n",
              "      <td>0.000000</td>\n",
              "      <td>0.000000</td>\n",
              "      <td>0.000000</td>\n",
              "      <td>1</td>\n",
              "    </tr>\n",
              "    <tr>\n",
              "      <th>3</th>\n",
              "      <td>0.0</td>\n",
              "      <td>1.0</td>\n",
              "      <td>0.0</td>\n",
              "      <td>0.0</td>\n",
              "      <td>0.0</td>\n",
              "      <td>0.000002</td>\n",
              "      <td>0.000003</td>\n",
              "      <td>0.000000</td>\n",
              "      <td>0.000059</td>\n",
              "      <td>0.000000</td>\n",
              "      <td>1</td>\n",
              "    </tr>\n",
              "    <tr>\n",
              "      <th>4</th>\n",
              "      <td>0.0</td>\n",
              "      <td>0.0</td>\n",
              "      <td>0.0</td>\n",
              "      <td>1.0</td>\n",
              "      <td>0.0</td>\n",
              "      <td>0.000126</td>\n",
              "      <td>0.000697</td>\n",
              "      <td>0.000603</td>\n",
              "      <td>0.000000</td>\n",
              "      <td>0.000000</td>\n",
              "      <td>0</td>\n",
              "    </tr>\n",
              "    <tr>\n",
              "      <th>...</th>\n",
              "      <td>...</td>\n",
              "      <td>...</td>\n",
              "      <td>...</td>\n",
              "      <td>...</td>\n",
              "      <td>...</td>\n",
              "      <td>...</td>\n",
              "      <td>...</td>\n",
              "      <td>...</td>\n",
              "      <td>...</td>\n",
              "      <td>...</td>\n",
              "      <td>...</td>\n",
              "    </tr>\n",
              "    <tr>\n",
              "      <th>6362615</th>\n",
              "      <td>0.0</td>\n",
              "      <td>1.0</td>\n",
              "      <td>0.0</td>\n",
              "      <td>0.0</td>\n",
              "      <td>0.0</td>\n",
              "      <td>0.003674</td>\n",
              "      <td>0.005701</td>\n",
              "      <td>0.000000</td>\n",
              "      <td>0.000000</td>\n",
              "      <td>0.000954</td>\n",
              "      <td>1</td>\n",
              "    </tr>\n",
              "    <tr>\n",
              "      <th>6362616</th>\n",
              "      <td>0.0</td>\n",
              "      <td>0.0</td>\n",
              "      <td>0.0</td>\n",
              "      <td>0.0</td>\n",
              "      <td>1.0</td>\n",
              "      <td>0.068272</td>\n",
              "      <td>0.105923</td>\n",
              "      <td>0.000000</td>\n",
              "      <td>0.000000</td>\n",
              "      <td>0.000000</td>\n",
              "      <td>1</td>\n",
              "    </tr>\n",
              "    <tr>\n",
              "      <th>6362617</th>\n",
              "      <td>0.0</td>\n",
              "      <td>1.0</td>\n",
              "      <td>0.0</td>\n",
              "      <td>0.0</td>\n",
              "      <td>0.0</td>\n",
              "      <td>0.068272</td>\n",
              "      <td>0.105923</td>\n",
              "      <td>0.000000</td>\n",
              "      <td>0.000192</td>\n",
              "      <td>0.017912</td>\n",
              "      <td>1</td>\n",
              "    </tr>\n",
              "    <tr>\n",
              "      <th>6362618</th>\n",
              "      <td>0.0</td>\n",
              "      <td>0.0</td>\n",
              "      <td>0.0</td>\n",
              "      <td>0.0</td>\n",
              "      <td>1.0</td>\n",
              "      <td>0.009195</td>\n",
              "      <td>0.014265</td>\n",
              "      <td>0.000000</td>\n",
              "      <td>0.000000</td>\n",
              "      <td>0.000000</td>\n",
              "      <td>1</td>\n",
              "    </tr>\n",
              "    <tr>\n",
              "      <th>6362619</th>\n",
              "      <td>0.0</td>\n",
              "      <td>1.0</td>\n",
              "      <td>0.0</td>\n",
              "      <td>0.0</td>\n",
              "      <td>0.0</td>\n",
              "      <td>0.009195</td>\n",
              "      <td>0.014265</td>\n",
              "      <td>0.000000</td>\n",
              "      <td>0.018286</td>\n",
              "      <td>0.020664</td>\n",
              "      <td>1</td>\n",
              "    </tr>\n",
              "  </tbody>\n",
              "</table>\n",
              "<p>6362620 rows × 11 columns</p>\n",
              "</div>"
            ],
            "text/plain": [
              "         type_CASH_IN  type_CASH_OUT  ...  newbalanceDest  isFraud\n",
              "0                 0.0            0.0  ...        0.000000        0\n",
              "1                 0.0            0.0  ...        0.000000        0\n",
              "2                 0.0            0.0  ...        0.000000        1\n",
              "3                 0.0            1.0  ...        0.000000        1\n",
              "4                 0.0            0.0  ...        0.000000        0\n",
              "...               ...            ...  ...             ...      ...\n",
              "6362615           0.0            1.0  ...        0.000954        1\n",
              "6362616           0.0            0.0  ...        0.000000        1\n",
              "6362617           0.0            1.0  ...        0.017912        1\n",
              "6362618           0.0            0.0  ...        0.000000        1\n",
              "6362619           0.0            1.0  ...        0.020664        1\n",
              "\n",
              "[6362620 rows x 11 columns]"
            ]
          },
          "metadata": {
            "tags": []
          },
          "execution_count": 40
        }
      ]
    },
    {
      "cell_type": "markdown",
      "metadata": {
        "id": "K7lzIpgu9Giv",
        "colab_type": "text"
      },
      "source": [
        "## **Séparation fraude/non-fraude**"
      ]
    },
    {
      "cell_type": "code",
      "metadata": {
        "id": "9sYSDZM39bfO",
        "colab_type": "code",
        "colab": {}
      },
      "source": [
        "data_fraude = data[data[\"isFraud\"] == 1]\n",
        "data_non_fraude = data[data[\"isFraud\"] == 0]"
      ],
      "execution_count": null,
      "outputs": []
    },
    {
      "cell_type": "markdown",
      "metadata": {
        "id": "0kfqpE4T-XqG",
        "colab_type": "text"
      },
      "source": [
        "## **Création des bases de train/test**"
      ]
    },
    {
      "cell_type": "code",
      "metadata": {
        "id": "V1aumN6y-q0p",
        "colab_type": "code",
        "colab": {}
      },
      "source": [
        "class FraudDataset(Dataset):\n",
        "\n",
        "  def __init__(self, dataframe, transform=None):\n",
        "    self.dataframe = dataframe\n",
        "    self.inputs = torch.tensor(dataframe.drop(columns = [\"isFraud\"]).values)\n",
        "    self.transform = transform\n",
        "\n",
        "  def __getitem__(self, index):\n",
        "    sample = self.inputs[index]\n",
        "    return sample\n",
        "\n",
        "  def __len__(self):\n",
        "    return len(self.dataframe)"
      ],
      "execution_count": null,
      "outputs": []
    },
    {
      "cell_type": "code",
      "metadata": {
        "id": "rCTofxMgH04M",
        "colab_type": "code",
        "colab": {
          "base_uri": "https://localhost:8080/",
          "height": 51
        },
        "outputId": "336d61d5-a658-490b-a555-78fc5e18c620"
      },
      "source": [
        "dataset_fraude = FraudDataset(dataframe = data_fraude)\n",
        "dataset_non_fraude = FraudDataset(dataframe = data_non_fraude)\n",
        "\n",
        "print(len(dataset_fraude))\n",
        "print(len(dataset_non_fraude))"
      ],
      "execution_count": null,
      "outputs": [
        {
          "output_type": "stream",
          "text": [
            "8213\n",
            "6354407\n"
          ],
          "name": "stdout"
        }
      ]
    },
    {
      "cell_type": "markdown",
      "metadata": {
        "id": "wS2a640iQiS_",
        "colab_type": "text"
      },
      "source": [
        "Etant donné que nous sommes face à un problème de détection d'anomalies, nous devons entraîner notre modèle uniquement sur les cas non frauduleux.\n",
        "Nous allons donc séparer uniquement la base de données des cas non frauduleux en train/test."
      ]
    },
    {
      "cell_type": "code",
      "metadata": {
        "id": "qvJXrtnVQhAx",
        "colab_type": "code",
        "colab": {}
      },
      "source": [
        "split_coeff = 0.99\n",
        "train_part = np.floor(split_coeff*len(dataset_non_fraude))\n",
        "test_part = len(dataset_non_fraude)-train_part\n",
        "non_fraude_train, non_fraude_test = random_split(dataset_non_fraude, [int(train_part), int(test_part)])"
      ],
      "execution_count": null,
      "outputs": []
    },
    {
      "cell_type": "code",
      "metadata": {
        "id": "wJFuii7oT9xP",
        "colab_type": "code",
        "colab": {
          "base_uri": "https://localhost:8080/",
          "height": 51
        },
        "outputId": "d41833da-1191-4675-a8f5-51012f31d540"
      },
      "source": [
        "print(\"Nombre de données d'entraînement : {:,}\".format(len(non_fraude_train)))\n",
        "print(\"Nombre de données de test : {:,}\".format(len(non_fraude_test)))"
      ],
      "execution_count": null,
      "outputs": [
        {
          "output_type": "stream",
          "text": [
            "Nombre de données d'entraînement : 6,290,862\n",
            "Nombre de données de test : 63,545\n"
          ],
          "name": "stdout"
        }
      ]
    },
    {
      "cell_type": "markdown",
      "metadata": {
        "id": "IdtZ_t6cEQU7",
        "colab_type": "text"
      },
      "source": [
        "## **Modèle : Autoencoder**"
      ]
    },
    {
      "cell_type": "markdown",
      "metadata": {
        "id": "g7OiDn93Vyu2",
        "colab_type": "text"
      },
      "source": [
        "Comme nous l'avons expliquer ci-dessus, nous allons utiliser la dataset des cas non frauduleux (cas usuels) pour entraîner et tester notre modèle.\n",
        "Une fois que notre modèle sera assez robuste sur les cas usuels, nous l'utiliserons sur la dataset des cas frauduleux pour tester sa performance à détecter ces anomalies. "
      ]
    },
    {
      "cell_type": "markdown",
      "metadata": {
        "id": "O-7sTc8LWeYm",
        "colab_type": "text"
      },
      "source": [
        "*Le modèle choisi est un autoencoder...*\n",
        "\n"
      ]
    },
    {
      "cell_type": "markdown",
      "metadata": {
        "id": "KvAluoFBXf9O",
        "colab_type": "text"
      },
      "source": [
        "#### **Architecture du modèle**"
      ]
    },
    {
      "cell_type": "code",
      "metadata": {
        "id": "Qfvgx-qrNThT",
        "colab_type": "code",
        "colab": {}
      },
      "source": [
        "class AeNet(nn.Module):\n",
        "  \n",
        "  def __init__(self):\n",
        "    super(AeNet, self).__init__()\n",
        "\n",
        "    self.enc1 = nn.Linear(10,8)\n",
        "    self.enc2 = nn.Linear(8,6)\n",
        "    self.enc3 = nn.Linear(6,4)\n",
        "    self.enc4 = nn.Linear(4,2)\n",
        "\n",
        "    self.dec1 = nn.Linear(2,4)\n",
        "    self.dec2 = nn.Linear(4,6)\n",
        "    self.dec3 = nn.Linear(6,8)\n",
        "    self.dec4 = nn.Linear(8,10)\n",
        "\n",
        "  def forward(self, x):\n",
        "\n",
        "    x = F.relu(self.enc1(x))\n",
        "    x = torch.tanh(self.enc2(x))\n",
        "    x = F.relu(self.enc3(x))\n",
        "    x = torch.tanh(self.enc4(x))\n",
        "\n",
        "    x = F.relu(self.dec1(x))\n",
        "    x = torch.tanh(self.dec2(x))\n",
        "    x = F.relu(self.dec3(x))\n",
        "    x = torch.tanh(self.dec4(x))\n",
        "\n",
        "    return x\n",
        "\n",
        "model = AeNet().double()"
      ],
      "execution_count": null,
      "outputs": []
    },
    {
      "cell_type": "code",
      "metadata": {
        "id": "i8463SL3cxrT",
        "colab_type": "code",
        "colab": {
          "base_uri": "https://localhost:8080/",
          "height": 191
        },
        "outputId": "f914d7a4-bd9a-4793-f3de-86f3eb9823ca"
      },
      "source": [
        "print(model)"
      ],
      "execution_count": null,
      "outputs": [
        {
          "output_type": "stream",
          "text": [
            "AeNet(\n",
            "  (enc1): Linear(in_features=10, out_features=8, bias=True)\n",
            "  (enc2): Linear(in_features=8, out_features=6, bias=True)\n",
            "  (enc3): Linear(in_features=6, out_features=4, bias=True)\n",
            "  (enc4): Linear(in_features=4, out_features=2, bias=True)\n",
            "  (dec1): Linear(in_features=2, out_features=4, bias=True)\n",
            "  (dec2): Linear(in_features=4, out_features=6, bias=True)\n",
            "  (dec3): Linear(in_features=6, out_features=8, bias=True)\n",
            "  (dec4): Linear(in_features=8, out_features=10, bias=True)\n",
            ")\n"
          ],
          "name": "stdout"
        }
      ]
    },
    {
      "cell_type": "code",
      "metadata": {
        "id": "e5UGzlfFcQtS",
        "colab_type": "code",
        "colab": {}
      },
      "source": [
        "torch.save(model, \"/content/AE_fraud_model.pt\")"
      ],
      "execution_count": null,
      "outputs": []
    },
    {
      "cell_type": "markdown",
      "metadata": {
        "id": "Wzoq6nmrV1An",
        "colab_type": "text"
      },
      "source": [
        "#### **Entraînement du modèle**"
      ]
    },
    {
      "cell_type": "code",
      "metadata": {
        "id": "ErPgHmlPV95g",
        "colab_type": "code",
        "colab": {}
      },
      "source": [
        "nb_epochs = 12\n",
        "batch_size = 1024\n",
        "learning_rate = 0.001"
      ],
      "execution_count": null,
      "outputs": []
    },
    {
      "cell_type": "code",
      "metadata": {
        "id": "v5DTAY4VX64w",
        "colab_type": "code",
        "colab": {}
      },
      "source": [
        "optimizer = torch.optim.Adam(model.parameters(), lr = learning_rate)\n",
        "criterion = nn.MSELoss()"
      ],
      "execution_count": null,
      "outputs": []
    },
    {
      "cell_type": "markdown",
      "metadata": {
        "id": "rSyioPpbW733",
        "colab_type": "text"
      },
      "source": [
        "Nous allons créer ce que l'on appelle des DataLoader, c'est un objet PyTorch qui permet découper un dataset en plusieurs petits paquets (mini-batchs). Cela permettra à notre modèle d'apprendre plus rapidement. "
      ]
    },
    {
      "cell_type": "code",
      "metadata": {
        "id": "ulmXr-egLN5o",
        "colab_type": "code",
        "colab": {}
      },
      "source": [
        "trainloader = DataLoader(non_fraude_train, batch_size = batch_size, shuffle = True, num_workers = 0)\n",
        "testloader = DataLoader(non_fraude_test, batch_size = batch_size, shuffle = True, num_workers = 0)"
      ],
      "execution_count": null,
      "outputs": []
    },
    {
      "cell_type": "code",
      "metadata": {
        "id": "Ir8KdAbpdtua",
        "colab_type": "code",
        "colab": {
          "base_uri": "https://localhost:8080/",
          "height": 1000
        },
        "outputId": "fc1da5b1-3654-4158-accd-9209a6b195c0"
      },
      "source": [
        "train_loss_hist = []\n",
        "test_loss_hist = []\n",
        "\n",
        "for epoch in range(nb_epochs):\n",
        "\n",
        "  train_loss = 0\n",
        "  test_loss = 0\n",
        "  start = time.time()\n",
        "\n",
        "  for i, inputs in enumerate(trainloader, 0):\n",
        "\n",
        "    # Progression\n",
        "    print(f\"\\r------- epoch : {epoch+1}/{nb_epochs} ------- {i/len(trainloader):.0%}\", end = \"\")\n",
        "\n",
        "    # Gradients are initialize to zero on every step \n",
        "    optimizer.zero_grad()\n",
        "\n",
        "    # forward propagation\n",
        "    outputs = model.forward(inputs)\n",
        "\n",
        "    # Loss computation (MSE)\n",
        "    loss = criterion(outputs, inputs)\n",
        "\n",
        "    # Backward propagation\n",
        "    loss.backward()\n",
        "\n",
        "    # Weigths update\n",
        "    optimizer.step()\n",
        "\n",
        "    train_loss += loss.item()\n",
        "\n",
        "  # Test loss\n",
        "  with torch.no_grad():\n",
        "    for i, inputs in enumerate(testloader, 0):\n",
        "      outputs = model.forward(inputs)\n",
        "      loss = criterion(outputs, inputs)\n",
        "      test_loss += loss.item()\n",
        "\n",
        "  train_loss = train_loss/len(trainloader)\n",
        "  test_loss = test_loss/len(testloader)\n",
        "\n",
        "  train_loss_hist.append(train_loss)\n",
        "  test_loss_hist.append(test_loss)\n",
        "\n",
        "  stop = time.time()\n",
        "\n",
        "  print(f\"\\nloss : {train_loss:.4%}\")\n",
        "  print(f\"learning rate : {learning_rate:.4}\")\n",
        "  print(f\"time : {stop-start:.4}\\n\")\n",
        "  plt.plot(range(len(train_loss_hist)), train_loss_hist, label = \"train loss\")\n",
        "  plt.plot(range(len(train_loss_hist)), test_loss_hist, label = \"test loss\")\n",
        "  plt.xlabel(\"epoch\")\n",
        "  plt.ylabel(\"loss\")\n",
        "  plt.legend()\n",
        "  plt.grid(True)\n",
        "  plt.show()\n",
        "  print(\"\\n\")"
      ],
      "execution_count": null,
      "outputs": [
        {
          "output_type": "stream",
          "text": [
            "------- epoch : 1/12 ------- 100%\n",
            "loss : 0.7469%\n",
            "learning rate : 0.001\n",
            "time : 55.48\n",
            "\n"
          ],
          "name": "stdout"
        },
        {
          "output_type": "display_data",
          "data": {
            "image/png": "[encoded data removed]",
            "text/plain": [
              "<Figure size 432x288 with 1 Axes>"
            ]
          },
          "metadata": {
            "tags": [],
            "needs_background": "light"
          }
        },
        {
          "output_type": "stream",
          "text": [
            "\n",
            "\n",
            "------- epoch : 2/12 ------- 100%\n",
            "loss : 0.0254%\n",
            "learning rate : 0.001\n",
            "time : 56.29\n",
            "\n"
          ],
          "name": "stdout"
        },
        {
          "output_type": "display_data",
          "data": {
            "image/png": "[encoded data removed]",
            "text/plain": [
              "<Figure size 432x288 with 1 Axes>"
            ]
          },
          "metadata": {
            "tags": [],
            "needs_background": "light"
          }
        },
        {
          "output_type": "stream",
          "text": [
            "\n",
            "\n",
            "------- epoch : 3/12 ------- 100%\n",
            "loss : 0.0026%\n",
            "learning rate : 0.001\n",
            "time : 57.6\n",
            "\n"
          ],
          "name": "stdout"
        },
        {
          "output_type": "display_data",
          "data": {
            "image/png": "[encoded data removed]",
            "text/plain": [
              "<Figure size 432x288 with 1 Axes>"
            ]
          },
          "metadata": {
            "tags": [],
            "needs_background": "light"
          }
        },
        {
          "output_type": "stream",
          "text": [
            "\n",
            "\n",
            "------- epoch : 4/12 ------- 100%\n",
            "loss : 0.0025%\n",
            "learning rate : 0.001\n",
            "time : 55.97\n",
            "\n"
          ],
          "name": "stdout"
        },
        {
          "output_type": "display_data",
          "data": {
            "image/png": "[encoded data removed]",
            "text/plain": [
              "<Figure size 432x288 with 1 Axes>"
            ]
          },
          "metadata": {
            "tags": [],
            "needs_background": "light"
          }
        },
        {
          "output_type": "stream",
          "text": [
            "\n",
            "\n",
            "------- epoch : 5/12 ------- 100%\n",
            "loss : 0.0025%\n",
            "learning rate : 0.001\n",
            "time : 55.58\n",
            "\n"
          ],
          "name": "stdout"
        },
        {
          "output_type": "display_data",
          "data": {
            "image/png": "[encoded data removed]",
            "text/plain": [
              "<Figure size 432x288 with 1 Axes>"
            ]
          },
          "metadata": {
            "tags": [],
            "needs_background": "light"
          }
        },
        {
          "output_type": "stream",
          "text": [
            "\n",
            "\n",
            "------- epoch : 6/12 ------- 100%\n",
            "loss : 0.0025%\n",
            "learning rate : 0.001\n",
            "time : 56.07\n",
            "\n"
          ],
          "name": "stdout"
        },
        {
          "output_type": "display_data",
          "data": {
            "image/png": "[encoded data removed]",
            "text/plain": [
              "<Figure size 432x288 with 1 Axes>"
            ]
          },
          "metadata": {
            "tags": [],
            "needs_background": "light"
          }
        },
        {
          "output_type": "stream",
          "text": [
            "\n",
            "\n",
            "------- epoch : 7/12 ------- 100%\n",
            "loss : 0.0024%\n",
            "learning rate : 0.001\n",
            "time : 56.09\n",
            "\n"
          ],
          "name": "stdout"
        },
        {
          "output_type": "display_data",
          "data": {
            "image/png": "[encoded data removed]",
            "text/plain": [
              "<Figure size 432x288 with 1 Axes>"
            ]
          },
          "metadata": {
            "tags": [],
            "needs_background": "light"
          }
        },
        {
          "output_type": "stream",
          "text": [
            "\n",
            "\n",
            "------- epoch : 8/12 ------- 100%\n",
            "loss : 0.0024%\n",
            "learning rate : 0.001\n",
            "time : 56.17\n",
            "\n"
          ],
          "name": "stdout"
        },
        {
          "output_type": "display_data",
          "data": {
            "image/png": "[encoded data removed]",
            "text/plain": [
              "<Figure size 432x288 with 1 Axes>"
            ]
          },
          "metadata": {
            "tags": [],
            "needs_background": "light"
          }
        },
        {
          "output_type": "stream",
          "text": [
            "\n",
            "\n",
            "------- epoch : 9/12 ------- 100%\n",
            "loss : 0.0025%\n",
            "learning rate : 0.001\n",
            "time : 55.98\n",
            "\n"
          ],
          "name": "stdout"
        },
        {
          "output_type": "display_data",
          "data": {
            "image/png": "[encoded data removed]",
            "text/plain": [
              "<Figure size 432x288 with 1 Axes>"
            ]
          },
          "metadata": {
            "tags": [],
            "needs_background": "light"
          }
        },
        {
          "output_type": "stream",
          "text": [
            "\n",
            "\n",
            "------- epoch : 10/12 ------- 100%\n",
            "loss : 0.0024%\n",
            "learning rate : 0.001\n",
            "time : 55.65\n",
            "\n"
          ],
          "name": "stdout"
        },
        {
          "output_type": "display_data",
          "data": {
            "image/png": "[encoded data removed]",
            "text/plain": [
              "<Figure size 432x288 with 1 Axes>"
            ]
          },
          "metadata": {
            "tags": [],
            "needs_background": "light"
          }
        },
        {
          "output_type": "stream",
          "text": [
            "\n",
            "\n",
            "------- epoch : 11/12 ------- 100%\n",
            "loss : 0.0024%\n",
            "learning rate : 0.001\n",
            "time : 55.37\n",
            "\n"
          ],
          "name": "stdout"
        },
        {
          "output_type": "display_data",
          "data": {
            "image/png": "[encoded data removed]",
            "text/plain": [
              "<Figure size 432x288 with 1 Axes>"
            ]
          },
          "metadata": {
            "tags": [],
            "needs_background": "light"
          }
        },
        {
          "output_type": "stream",
          "text": [
            "\n",
            "\n",
            "------- epoch : 12/12 ------- 100%\n",
            "loss : 0.0024%\n",
            "learning rate : 0.001\n",
            "time : 55.57\n",
            "\n"
          ],
          "name": "stdout"
        },
        {
          "output_type": "display_data",
          "data": {
            "image/png": "[encoded data removed]",
            "text/plain": [
              "<Figure size 432x288 with 1 Axes>"
            ]
          },
          "metadata": {
            "tags": [],
            "needs_background": "light"
          }
        },
        {
          "output_type": "stream",
          "text": [
            "\n",
            "\n"
          ],
          "name": "stdout"
        }
      ]
    },
    {
      "cell_type": "code",
      "metadata": {
        "id": "X_Wu9B6SUXrd",
        "colab_type": "code",
        "colab": {
          "base_uri": "https://localhost:8080/",
          "height": 508
        },
        "outputId": "79b00350-90f2-4ed7-dc73-a408a9728dab"
      },
      "source": [
        "fig = plt.figure(figsize=(12,8))\n",
        "plt.plot(range(len(train_loss_hist)), train_loss_hist, label = \"train loss\")\n",
        "plt.plot(range(len(train_loss_hist)), test_loss_hist, label = \"test loss\")\n",
        "plt.xlabel(\"epoch\")\n",
        "plt.ylabel(\"loss\")\n",
        "plt.legend()\n",
        "plt.grid(True)\n",
        "plt.show()"
      ],
      "execution_count": null,
      "outputs": [
        {
          "output_type": "display_data",
          "data": {
            "image/png": "[encoded data removed]",
            "text/plain": [
              "<Figure size 864x576 with 1 Axes>"
            ]
          },
          "metadata": {
            "tags": []
          }
        }
      ]
    },
    {
      "cell_type": "code",
      "metadata": {
        "id": "4F7_1a1RUQii",
        "colab_type": "code",
        "colab": {}
      },
      "source": [
        "torch.save(model.state_dict(), \"/content/drive/My Drive/Fac/Mémoire/ae_dict.pt\")\n",
        "torch.save(train_loss_hist, \"/content/drive/My Drive/Fac/Mémoire/ae_train_loss.pt\")\n",
        "torch.save(test_loss_hist, \"/content/drive/My Drive/Fac/Mémoire/ae_test_loss.pt\")"
      ],
      "execution_count": null,
      "outputs": []
    },
    {
      "cell_type": "code",
      "metadata": {
        "id": "cMGBdFCBX3Tf",
        "colab_type": "code",
        "colab": {}
      },
      "source": [
        "fraude_dataloader = DataLoader(dataset_fraude, batch_size = 1, shuffle = False, num_workers = 0)\n",
        "non_fraude_dataloader = DataLoader(non_fraude_test, batch_size = 1, shuffle = False, num_workers = 0)"
      ],
      "execution_count": null,
      "outputs": []
    },
    {
      "cell_type": "code",
      "metadata": {
        "id": "E9KV-9jcbETD",
        "colab_type": "code",
        "colab": {
          "base_uri": "https://localhost:8080/",
          "height": 52
        },
        "outputId": "3ea5781c-85d0-4d57-fe1a-db042a14cdf7"
      },
      "source": [
        "print(len(fraude_dataloader))\n",
        "print(len(non_fraude_dataloader))"
      ],
      "execution_count": null,
      "outputs": [
        {
          "output_type": "stream",
          "text": [
            "8213\n",
            "63545\n"
          ],
          "name": "stdout"
        }
      ]
    },
    {
      "cell_type": "code",
      "metadata": {
        "id": "3M5mwd1VgcTV",
        "colab_type": "code",
        "colab": {
          "base_uri": "https://localhost:8080/",
          "height": 35
        },
        "outputId": "59134957-457e-4422-9e69-e2491ae995ad"
      },
      "source": [
        "y1_true = np.ones(len(fraude_dataloader), dtype = int)\n",
        "y2_true = np.zeros(len(non_fraude_dataloader), dtype = int)\n",
        "\n",
        "y_true = np.concatenate([y1_true, y2_true])\n",
        "y_true"
      ],
      "execution_count": null,
      "outputs": [
        {
          "output_type": "execute_result",
          "data": {
            "text/plain": [
              "array([1, 1, 1, ..., 0, 0, 0])"
            ]
          },
          "metadata": {
            "tags": []
          },
          "execution_count": 81
        }
      ]
    },
    {
      "cell_type": "code",
      "metadata": {
        "id": "jtPm1o6RSsJQ",
        "colab_type": "code",
        "colab": {
          "base_uri": "https://localhost:8080/",
          "height": 52
        },
        "outputId": "0fe0846f-5981-4709-cd81-bc6dd7287a0a"
      },
      "source": [
        "y1_pred = []\n",
        "y2_pred = []\n",
        "\n",
        "with torch.no_grad():\n",
        "\n",
        "  # y1_pred : fraude\n",
        "  for i, inputs in enumerate(fraude_dataloader, 0):\n",
        "    print(f\"\\rfraude : {i/len(fraude_dataloader):.0%}\", end = \"\")\n",
        "    outputs = model.forward(inputs)\n",
        "    loss = criterion(outputs, inputs).item()\n",
        "    y1_pred.append(loss)\n",
        "\n",
        "  print()\n",
        "\n",
        "  # y2_pred : non-fraude\n",
        "  for i, inputs in enumerate(non_fraude_dataloader, 0):\n",
        "    print(f\"\\rnon-fraude : {i/len(non_fraude_dataloader):.0%}\", end = \"\")\n",
        "    outputs = model.forward(inputs)\n",
        "    loss = (criterion(outputs, inputs).item())\n",
        "    y2_pred.append(loss)\n",
        "\n",
        "  print()\n",
        "\n",
        "y_pred_raw = np.concatenate([y1_pred, y2_pred])"
      ],
      "execution_count": null,
      "outputs": [
        {
          "output_type": "stream",
          "text": [
            "fraude : 100%\n",
            "non-fraude : 100%\n"
          ],
          "name": "stdout"
        }
      ]
    },
    {
      "cell_type": "code",
      "metadata": {
        "id": "_OvD_X7q_zT_",
        "colab_type": "code",
        "colab": {
          "base_uri": "https://localhost:8080/",
          "height": 35
        },
        "outputId": "486099b9-2af1-40dd-9539-c8316c37dda2"
      },
      "source": [
        "start = 10e-8\n",
        "stop = 10e-6\n",
        "step = 10e-9\n",
        "len(np.arange(start, stop, step))"
      ],
      "execution_count": null,
      "outputs": [
        {
          "output_type": "execute_result",
          "data": {
            "text/plain": [
              "990"
            ]
          },
          "metadata": {
            "tags": []
          },
          "execution_count": 83
        }
      ]
    },
    {
      "cell_type": "code",
      "metadata": {
        "id": "hT5g1q1BkSMq",
        "colab_type": "code",
        "colab": {
          "base_uri": "https://localhost:8080/",
          "height": 525
        },
        "outputId": "5f4dc1d7-d628-470b-adc8-d59e9c0bb80f"
      },
      "source": [
        "start = 10e-8\n",
        "stop = 10e-6\n",
        "step = 10e-9\n",
        "\n",
        "threshold_hist = []\n",
        "accuracy_hist = []\n",
        "recall_hist = []\n",
        "\n",
        "k = 0\n",
        "\n",
        "for i in np.arange(start, stop, step):\n",
        "\n",
        "  # Progression \n",
        "  print(f\"\\r{k/len(np.arange(start, stop, step)):.0%}\", end = \"\")\n",
        "  k += 1\n",
        "\n",
        "  # Fixing the threshold\n",
        "  threshold = i\n",
        "  y_pred = np.where(y_pred_raw > threshold, 1, 0)\n",
        "  threshold_hist.append(threshold)\n",
        "\n",
        "  # Confusion matrix\n",
        "  conf_mat = confusion_matrix(y_true, y_pred)\n",
        "\n",
        "  # True negative\n",
        "  TP = conf_mat[0][0]\n",
        "\n",
        "  # True positive\n",
        "  TN = conf_mat[1][1]\n",
        "\n",
        "  # False positive\n",
        "  FP = conf_mat[0][1]\n",
        "\n",
        "  # False negative\n",
        "  FN = conf_mat[1][0]\n",
        "\n",
        "  # Metrics\n",
        "  accuracy = (TP + TN)/len(y_true)\n",
        "  recall = TN / (TN + FN)\n",
        "\n",
        "  accuracy_hist.append(accuracy)\n",
        "  recall_hist.append(recall)\n",
        "\n",
        "index = int(np.argwhere(np.diff(np.sign(np.asarray(accuracy_hist) - np.asarray(recall_hist)))))\n",
        "\n",
        "fig = plt.figure(figsize=(12,8))\n",
        "plt.plot(threshold_hist, accuracy_hist, label = \"accuracy\")\n",
        "plt.plot(threshold_hist, recall_hist, label = \"recall\")\n",
        "plt.plot(threshold_hist[index], recall_hist[index], 'ro')\n",
        "plt.xlabel(\"Threshold\")\n",
        "plt.ylabel(\"Metrics Score\")\n",
        "plt.legend()\n",
        "plt.grid(True)\n",
        "plt.show()"
      ],
      "execution_count": null,
      "outputs": [
        {
          "output_type": "stream",
          "text": [
            "100%"
          ],
          "name": "stdout"
        },
        {
          "output_type": "display_data",
          "data": {
            "image/png": "[encoded data removed]",
            "text/plain": [
              "<Figure size 864x576 with 1 Axes>"
            ]
          },
          "metadata": {
            "tags": []
          }
        }
      ]
    },
    {
      "cell_type": "code",
      "metadata": {
        "id": "1fq2lPeT0gBp",
        "colab_type": "code",
        "colab": {
          "base_uri": "https://localhost:8080/",
          "height": 35
        },
        "outputId": "940c7309-4c22-44cf-c8f6-4f9b3bc86352"
      },
      "source": [
        "best_accuracy = accuracy_hist[index]\n",
        "best_recall = recall_hist[index]\n",
        "best_threshold = threshold_hist[index]\n",
        "print(f\"Accuracy : {best_accuracy:.2%}  --- Recall : {best_recall:.2%} --- Threshold : {best_threshold:.4}\")"
      ],
      "execution_count": null,
      "outputs": [
        {
          "output_type": "stream",
          "text": [
            "Accuracy : 80.61%  --- Recall : 80.62% --- Threshold : 4.84e-06\n"
          ],
          "name": "stdout"
        }
      ]
    },
    {
      "cell_type": "code",
      "metadata": {
        "id": "NucTesEF3zhq",
        "colab_type": "code",
        "colab": {}
      },
      "source": [
        "# Confusion matrix\n",
        "threshold = best_threshold\n",
        "y_pred = np.where(y_pred_raw > threshold, 1, 0)\n",
        "conf_mat = confusion_matrix(y_true, y_pred)"
      ],
      "execution_count": null,
      "outputs": []
    },
    {
      "cell_type": "code",
      "metadata": {
        "id": "yhyHmUmNoE5Y",
        "colab_type": "code",
        "colab": {
          "base_uri": "https://localhost:8080/",
          "height": 509
        },
        "outputId": "143664c0-e4f3-4f81-9986-e779e0aca37a"
      },
      "source": [
        "# Plot the confusion matrix\n",
        "fig = plt.figure(figsize = (8,8))\n",
        "sns.set(font_scale = 1.3)\n",
        "sns.heatmap(conf_mat, xticklabels = [\"Non-Fraude\",\"Fraude\"], yticklabels = [\"Non-Fraude\",\"Fraude\"], annot = True, fmt = \"d\", annot_kws={\"size\": 20})\n",
        "plt.xlabel(\"Valeurs prédites\")\n",
        "plt.ylabel(\"Vraies valeurs\")\n",
        "plt.show()"
      ],
      "execution_count": null,
      "outputs": [
        {
          "output_type": "display_data",
          "data": {
            "image/png": "[encoded data removed]",
            "text/plain": [
              "<Figure size 576x576 with 2 Axes>"
            ]
          },
          "metadata": {
            "tags": []
          }
        }
      ]
    },
    {
      "cell_type": "code",
      "metadata": {
        "id": "KZEHNdVhoFrz",
        "colab_type": "code",
        "colab": {
          "base_uri": "https://localhost:8080/",
          "height": 35
        },
        "outputId": "48947e91-8ee4-4ab0-a699-f12b2b2d7303"
      },
      "source": [
        "# True negative\n",
        "TP = conf_mat[0][0]\n",
        "\n",
        "# True positive\n",
        "TN = conf_mat[1][1]\n",
        "\n",
        "# False positive\n",
        "FP = conf_mat[0][1]\n",
        "\n",
        "# False negative\n",
        "FN = conf_mat[1][0]\n",
        "\n",
        "# Metrics\n",
        "accuracy = (TP + TN)/len(y_true)\n",
        "recall = TN / (TN + FN)\n",
        "\n",
        "print(f\"Threshold : {threshold} --- Accuracy : {accuracy:.2%} --- Recall : {recall:.2%}\")"
      ],
      "execution_count": null,
      "outputs": [
        {
          "output_type": "stream",
          "text": [
            "Threshold : 4.8399999999999986e-06 --- Accuracy : 80.61% --- Recall : 80.62%\n"
          ],
          "name": "stdout"
        }
      ]
    },
    {
      "cell_type": "code",
      "metadata": {
        "id": "7-4mZve5csJG",
        "colab_type": "code",
        "colab": {}
      },
      "source": [
        "fpr, tpr, thresholds = roc_curve(y_true, y_pred_raw)"
      ],
      "execution_count": null,
      "outputs": []
    },
    {
      "cell_type": "code",
      "metadata": {
        "id": "FTnmihDnc7Cv",
        "colab_type": "code",
        "colab": {
          "base_uri": "https://localhost:8080/",
          "height": 526
        },
        "outputId": "ffa1a3f6-ffec-461a-bf81-7b57c778c604"
      },
      "source": [
        "fig = plt.figure(figsize=(12,8))\n",
        "plt.plot(fpr, tpr, label = \"ROC Curve\")\n",
        "plt.plot([tpr[0], tpr[len(tpr)-1]])\n",
        "plt.legend()\n",
        "plt.title('ROC curve')\n",
        "plt.xlabel('False Positive Rate')\n",
        "plt.ylabel('True Positive Rate')\n",
        "plt.grid(True)"
      ],
      "execution_count": null,
      "outputs": [
        {
          "output_type": "display_data",
          "data": {
            "image/png": "[encoded data removed]",
            "text/plain": [
              "<Figure size 864x576 with 1 Axes>"
            ]
          },
          "metadata": {
            "tags": []
          }
        }
      ]
    },
    {
      "cell_type": "code",
      "metadata": {
        "id": "ozYlTpZfgPBD",
        "colab_type": "code",
        "colab": {}
      },
      "source": [
        "pr, rc, thresholds = precision_recall_curve(y_true, y_pred_raw)"
      ],
      "execution_count": null,
      "outputs": []
    },
    {
      "cell_type": "code",
      "metadata": {
        "colab_type": "code",
        "id": "Y0D5xddkg0V3",
        "colab": {
          "base_uri": "https://localhost:8080/",
          "height": 526
        },
        "outputId": "bf1afca3-101e-4a94-b18b-ecdd52a7a552"
      },
      "source": [
        "fig = plt.figure(figsize=(12,8))\n",
        "plt.plot(rc, pr, label = \"Precision-Recall Curve\")\n",
        "# plt.plot([tpr[0], tpr[len(tpr)-1]])\n",
        "plt.legend()\n",
        "plt.title('Precision-Recall Curve')\n",
        "plt.xlabel('Recall')\n",
        "plt.ylabel('Precision')\n",
        "plt.grid(True)"
      ],
      "execution_count": null,
      "outputs": [
        {
          "output_type": "display_data",
          "data": {
            "image/png": "[encoded data removed]",
            "text/plain": [
              "<Figure size 864x576 with 1 Axes>"
            ]
          },
          "metadata": {
            "tags": []
          }
        }
      ]
    }
  ]
}